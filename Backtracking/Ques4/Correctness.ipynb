{
 "cells": [
  {
   "cell_type": "code",
   "execution_count": 1,
   "metadata": {},
   "outputs": [],
   "source": [
    "def fair_partition(arr, k):\n",
    "    def is_feasible(mid):\n",
    "        count = 1\n",
    "        current_sum = 0\n",
    "        partitioned_arr = [[]]\n",
    "\n",
    "        for num in arr:\n",
    "            if current_sum + num > mid:\n",
    "                count += 1\n",
    "                current_sum = 0\n",
    "                partitioned_arr.append([])\n",
    "\n",
    "            current_sum += num\n",
    "            partitioned_arr[-1].append(num)\n",
    "\n",
    "        return count <= k, partitioned_arr\n",
    "\n",
    "    low, high = max(arr), sum(arr)\n",
    "\n",
    "    while low <= high:\n",
    "        mid = (low + high) // 2\n",
    "\n",
    "        feasible, partitioned_arr = is_feasible(mid)\n",
    "\n",
    "        if feasible:\n",
    "            high = mid - 1\n",
    "        else:\n",
    "            low = mid + 1\n",
    "    \n",
    "    return partitioned_arr\n",
    "\n",
    "\n",
    "\n"
   ]
  },
  {
   "cell_type": "code",
   "execution_count": 2,
   "metadata": {},
   "outputs": [
    {
     "name": "stdout",
     "output_type": "stream",
     "text": [
      "For N = 9:\n",
      "[[314, 440, 228], [471, 367], [396, 198, 272], [165]]\n",
      "\n",
      "For N = 11:\n",
      "[[266, 370, 137, 303], [122, 208, 358, 430], [427, 369, 159]]\n",
      "\n",
      "For N = 13:\n",
      "[[170, 471, 478, 102, 146], [496, 477, 373, 417], [236, 303, 409, 445]]\n",
      "\n",
      "[0.0005643999902531505, 5.1399998483248055e-05, 3.9099992136470973e-05]\n"
     ]
    }
   ],
   "source": [
    "import time\n",
    "import random\n",
    "time_array = list()\n",
    "\n",
    "for i in range(9, 15,2):\n",
    "    arr = [random.randint(100, 500) for _ in range(i)]\n",
    "    start_time = time.perf_counter()\n",
    "    print(f\"For N = {i}:\\n{fair_partition(arr, 3)}\\n\")\n",
    "    end_time = time.perf_counter()\n",
    "    time_array.append(end_time - start_time)\n",
    "print(time_array)\n"
   ]
  },
  {
   "cell_type": "code",
   "execution_count": null,
   "metadata": {},
   "outputs": [],
   "source": []
  }
 ],
 "metadata": {
  "kernelspec": {
   "display_name": "Python 3",
   "language": "python",
   "name": "python3"
  },
  "language_info": {
   "codemirror_mode": {
    "name": "ipython",
    "version": 3
   },
   "file_extension": ".py",
   "mimetype": "text/x-python",
   "name": "python",
   "nbconvert_exporter": "python",
   "pygments_lexer": "ipython3",
   "version": "3.11.4"
  }
 },
 "nbformat": 4,
 "nbformat_minor": 2
}
