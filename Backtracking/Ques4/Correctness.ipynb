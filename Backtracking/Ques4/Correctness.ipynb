{
 "cells": [
  {
   "cell_type": "code",
   "execution_count": 3,
   "metadata": {},
   "outputs": [],
   "source": [
    "def fair_partition(arr, k):\n",
    "    def is_feasible(mid):\n",
    "        count = 1\n",
    "        current_sum = 0\n",
    "        partitioned_arr = [[]]\n",
    "\n",
    "        for num in arr:\n",
    "            if current_sum + num > mid:\n",
    "                count += 1\n",
    "                current_sum = 0\n",
    "                partitioned_arr.append([])\n",
    "\n",
    "            current_sum += num\n",
    "            partitioned_arr[-1].append(num)\n",
    "\n",
    "        return count <= k, partitioned_arr\n",
    "\n",
    "    low, high = max(arr), sum(arr)\n",
    "\n",
    "    while low <= high:\n",
    "        mid = (low + high) // 2\n",
    "\n",
    "        feasible, partitioned_arr = is_feasible(mid)\n",
    "\n",
    "        if feasible:\n",
    "            high = mid - 1\n",
    "        else:\n",
    "            low = mid + 1\n",
    "    for co,i in enumerate(partitioned_arr):\n",
    "        print(f\"Avg {co+1} = {sum(i)/len(i)}\")\n",
    "        \n",
    "    return partitioned_arr\n",
    "\n",
    "\n",
    "\n"
   ]
  },
  {
   "cell_type": "code",
   "execution_count": 4,
   "metadata": {},
   "outputs": [
    {
     "name": "stdout",
     "output_type": "stream",
     "text": [
      "Avg 1 = 350.3333333333333\n",
      "Avg 2 = 312.0\n",
      "Avg 3 = 318.0\n",
      "For N = 9:\n",
      "[[434, 439, 178], [288, 467, 181], [194, 496, 264]]\n",
      "\n",
      "Avg 1 = 304.25\n",
      "Avg 2 = 333.0\n",
      "Avg 3 = 307.0\n",
      "For N = 11:\n",
      "[[324, 111, 347, 435], [367, 470, 162], [415, 300, 302, 211]]\n",
      "\n",
      "Avg 1 = 346.75\n",
      "Avg 2 = 265.25\n",
      "Avg 3 = 363.5\n",
      "Avg 4 = 495.0\n",
      "For N = 13:\n",
      "[[436, 224, 369, 358], [458, 263, 205, 135], [477, 355, 195, 427], [495]]\n",
      "\n",
      "[0.0006061000021873042, 4.990000161342323e-05, 5.389998841565102e-05]\n"
     ]
    }
   ],
   "source": [
    "import time\n",
    "import random\n",
    "time_array = list()\n",
    "\n",
    "for i in range(9, 15,2):\n",
    "    arr = [random.randint(100, 500) for _ in range(i)]\n",
    "    start_time = time.perf_counter()\n",
    "    print(f\"For N = {i}:\\n{fair_partition(arr, 3)}\\n\")\n",
    "    end_time = time.perf_counter()\n",
    "    time_array.append(end_time - start_time)\n",
    "print(time_array)\n"
   ]
  },
  {
   "cell_type": "code",
   "execution_count": null,
   "metadata": {},
   "outputs": [],
   "source": []
  }
 ],
 "metadata": {
  "kernelspec": {
   "display_name": "Python 3",
   "language": "python",
   "name": "python3"
  },
  "language_info": {
   "codemirror_mode": {
    "name": "ipython",
    "version": 3
   },
   "file_extension": ".py",
   "mimetype": "text/x-python",
   "name": "python",
   "nbconvert_exporter": "python",
   "pygments_lexer": "ipython3",
   "version": "3.11.4"
  }
 },
 "nbformat": 4,
 "nbformat_minor": 2
}
